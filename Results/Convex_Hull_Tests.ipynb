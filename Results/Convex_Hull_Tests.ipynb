{
 "cells": [
  {
   "cell_type": "code",
   "execution_count": null,
   "metadata": {
    "id": "hRYH-oIMfOT3"
   },
   "outputs": [],
   "source": [
    "import numpy as np\n",
    "import pandas as pd\n",
    "import time\n",
    "\n",
    "import matplotlib.pyplot as plt"
   ]
  },
  {
   "cell_type": "code",
   "execution_count": null,
   "metadata": {
    "id": "oZwZGrwPsB2S"
   },
   "outputs": [],
   "source": [
    "import sys\n",
    "sys.path.insert(0, '..')"
   ]
  },
  {
   "cell_type": "code",
   "execution_count": null,
   "metadata": {
    "id": "EWtLba6d1w7s"
   },
   "outputs": [],
   "source": [
    "from Optimizers.ConvexHull import CauchySimplex\n",
    "from Optimizers.ConvexHull import EGD, PairwiseFrankWolfe\n",
    "from Optimizers.ConvexHull import validate_stopping_conditions"
   ]
  },
  {
   "cell_type": "code",
   "execution_count": null,
   "metadata": {
    "id": "4q_DYAEFEUlI"
   },
   "outputs": [],
   "source": [
    "def sample_unit_hypercube(N, dimension):\n",
    "    \"\"\" N is the number of samples on each surface of the hypercube \n",
    "        \n",
    "        Code is inspired from this answer by Aksakal\n",
    "        https://stats.stackexchange.com/a/504488\n",
    "    \"\"\"\n",
    "    index = np.arange(dimension)\n",
    "    X = np.zeros((N * dimension * 2, dimension))\n",
    "    \n",
    "    count = 0\n",
    "    for k in range(dimension):  # The dimension of the surface to sample on\n",
    "        working_indices = index[index != k]\n",
    "        for j in range(2):  # The top or bottom face of the surface\n",
    "            for i in range(N):\n",
    "                X[count, working_indices] = np.random.rand(dimension - 1)\n",
    "                X[count, k] = j\n",
    "                \n",
    "                count += 1\n",
    "    return X\n",
    "\n",
    "def generate_point_on_surface(d, top_surface, X):\n",
    "    \"\"\" Generates a point sampled on the convex hull of X\n",
    "    \n",
    "        Parameters\n",
    "        ----------\n",
    "        d : int\n",
    "            The dimension of the surface to sample from \n",
    "        top_surface : int\n",
    "            0 for the bottom surface and 1 for the top surface\n",
    "        X : np.ndarray\n",
    "            The set of points\n",
    "    \"\"\"\n",
    "    surface_points = X[X[:, d] == top_surface]\n",
    "    n, _ = surface_points.shape\n",
    "    \n",
    "    w = np.random.rand(n)\n",
    "    w = w / np.sum(w)\n",
    "    \n",
    "    return w @ surface_points"
   ]
  },
  {
   "cell_type": "code",
   "execution_count": null,
   "metadata": {
    "id": "BwFB7XgCEUBD"
   },
   "outputs": [],
   "source": [
    "def test_optimizer(optimizer, w, y_true, tol=1e-5, max_iter=10_000, search_args=None):\n",
    "    if search_args is None:\n",
    "        search_args = {}\n",
    "    \n",
    "    start = time.time()\n",
    "    for i in range(max_iter):\n",
    "        w = optimizer.search(w, **search_args)\n",
    "        \n",
    "        if np.linalg.norm(w @ optimizer.X - y_true) < tol:\n",
    "            break\n",
    "    end = time.time()\n",
    "\n",
    "    return i + 1, end - start, np.linalg.norm(w @ optimizer.X - y_true)"
   ]
  },
  {
   "cell_type": "code",
   "execution_count": null,
   "metadata": {
    "id": "v2xvJuiQLdjv"
   },
   "outputs": [],
   "source": [
    "dimensions = [10, 15, 20, 25, 30, 35, 40, 45, 50]\n",
    "num_trials = 50\n",
    "\n",
    "samples_per_surface = 100\n",
    "\n",
    "tol = 1e-5\n",
    "max_iter = 10_000"
   ]
  },
  {
   "cell_type": "code",
   "execution_count": null,
   "metadata": {
    "colab": {
     "base_uri": "https://localhost:8080/"
    },
    "id": "LlUHxu9hLQN4",
    "outputId": "789bbabd-6aa7-4d9b-b252-d88bf13a8b1e"
   },
   "outputs": [],
   "source": [
    "for dim in dimensions:\n",
    "    X = sample_unit_hypercube(samples_per_surface, dim)\n",
    "\n",
    "    cs_results = pd.DataFrame(0.0, index=range(num_trials), columns=['Iterations', 'Time (sec)', 'Distance'])\n",
    "    egd_results = pd.DataFrame(0.0, index=range(num_trials), columns=['Iterations', 'Time (sec)', 'Distance'])\n",
    "    pfw_results = pd.DataFrame(0.0, index=range(num_trials), columns=['Iterations', 'Time (sec)', 'Distance'])\n",
    "\n",
    "    for i in range(num_trials):\n",
    "        # Generate Datapoint\n",
    "        d, top_surface = np.random.randint(dim), np.random.randint(2)\n",
    "        y_true = generate_point_on_surface(d, top_surface, X)\n",
    "\n",
    "        y = y_true.copy()\n",
    "        y[d] += (1 if top_surface else -1)\n",
    "\n",
    "        # Test Cauchy Simplex\n",
    "        optimizer = CauchySimplex(X, y)\n",
    "        w = np.ones(len(X)) / len(X)\n",
    "        cs_results.iloc[i, :] = test_optimizer(optimizer, w, y_true, tol=tol, max_iter=max_iter,\n",
    "                                               search_args={})\n",
    "\n",
    "        # Test EGD\n",
    "        optimizer = EGD(X, y)\n",
    "        w = np.ones(len(X)) / len(X)\n",
    "        egd_results.iloc[i, :] = test_optimizer(optimizer, w, y_true, tol=tol, max_iter=max_iter, \n",
    "                                                search_args={'step_size': 10})\n",
    "\n",
    "        # Test PFW\n",
    "        optimizer = PairwiseFrankWolfe(X, y)\n",
    "        w = np.zeros(len(X))\n",
    "        w[0] = 1\n",
    "        pfw_results.iloc[i, :] = test_optimizer(optimizer, w, y_true, tol=tol, max_iter=max_iter, \n",
    "                                                search_args={})\n",
    "    \n",
    "        # Save after every loop\n",
    "        cs_results.to_csv(f\"csv_files/cs_{dim}.csv\")\n",
    "        egd_results.to_csv(f\"csv_files/egd_{dim}.csv\")\n",
    "        pfw_results.to_csv(f\"csv_files/pfw_{dim}.csv\")"
   ]
  }
 ],
 "metadata": {
  "colab": {
   "provenance": []
  },
  "kernelspec": {
   "display_name": "Python 3 (ipykernel)",
   "language": "python",
   "name": "python3"
  },
  "language_info": {
   "codemirror_mode": {
    "name": "ipython",
    "version": 3
   },
   "file_extension": ".py",
   "mimetype": "text/x-python",
   "name": "python",
   "nbconvert_exporter": "python",
   "pygments_lexer": "ipython3",
   "version": "3.10.6"
  }
 },
 "nbformat": 4,
 "nbformat_minor": 1
}
