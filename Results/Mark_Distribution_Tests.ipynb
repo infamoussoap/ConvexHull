{
 "cells": [
  {
   "cell_type": "code",
   "execution_count": 2,
   "metadata": {
    "id": "aqN9A2m-Kdbi"
   },
   "outputs": [],
   "source": [
    "import numpy as np\n",
    "import pandas as pd\n",
    "import time\n",
    "\n",
    "import matplotlib.pyplot as plt"
   ]
  },
  {
   "cell_type": "code",
   "execution_count": 3,
   "metadata": {
    "id": "8NA-SJV0KfBU"
   },
   "outputs": [],
   "source": [
    "import sys\n",
    "sys.path.insert(0, 'ConvexHull')"
   ]
  },
  {
   "cell_type": "code",
   "execution_count": 4,
   "metadata": {
    "id": "40RVSELqKf5_"
   },
   "outputs": [],
   "source": [
    "from Optimizers.SampleWeighting import CauchySimplex, EGD, PairwiseFrankWolfe\n",
    "from Optimizers.SampleWeighting.Distributions import TruncatedGaussian\n",
    "from Optimizers.SampleWeighting.SampleWeighting import SampleWeighting"
   ]
  },
  {
   "cell_type": "code",
   "execution_count": 5,
   "metadata": {
    "id": "h9DoYKMKiynr"
   },
   "outputs": [],
   "source": [
    "def generate_student_scores(num_students=100, num_questions=100, \n",
    "                            easy_question_proportion=0.8, smart_student_proportion=0.6):\n",
    "    # Question difficulty\n",
    "    q_values = np.zeros(num_questions)\n",
    "    n = int(num_questions * easy_question_proportion)\n",
    "\n",
    "    q_values[:n] = np.random.rand(n) / 4 + 0.75\n",
    "    q_values[n:] = np.random.rand(num_questions - n) / 3\n",
    "\n",
    "    # Student smartness\n",
    "    p_values = np.zeros(num_students)\n",
    "    n = int(num_students * smart_student_proportion)\n",
    "\n",
    "    p_values[:n] = np.random.rand(n) / 5 + 0.6\n",
    "    p_values[n:] = np.random.rand(num_students - n) / 3 + 0.5\n",
    "\n",
    "    return np.random.binomial(1, p_values[:, None] * q_values[None, :], size=(num_students, num_questions))"
   ]
  },
  {
   "cell_type": "code",
   "execution_count": 6,
   "metadata": {
    "id": "GDkjKdoWh1n8"
   },
   "outputs": [],
   "source": [
    "def test_optimizer(optimizer, w, max_iter=1_000, search_args=None, max_time=None):\n",
    "    if search_args is None:\n",
    "        search_args = {}\n",
    "    \n",
    "    max_time = max_time if max_time is not None else np.inf\n",
    "\n",
    "    i = 0 \n",
    "    start = time.time()\n",
    "    while i < max_iter and time.time() - start < max_time:\n",
    "        w = optimizer.search(w, **search_args)\n",
    "        i += 1\n",
    "        \n",
    "    end = time.time()\n",
    "\n",
    "    return i, end - start, optimizer.f(w)"
   ]
  },
  {
   "cell_type": "code",
   "execution_count": 14,
   "metadata": {
    "id": "zYAeKtrgLQIr"
   },
   "outputs": [],
   "source": [
    "num_trials = 25\n",
    "\n",
    "max_iter = 200\n",
    "max_time = np.inf  # seconds\n",
    "\n",
    "num_students = 100\n",
    "num_questions = 100\n",
    "\n",
    "integration_points = np.linspace(0, 1, 401)\n",
    "target_distribution = TruncatedGaussian(0.7, 0.1, 0, 1)"
   ]
  },
  {
   "cell_type": "code",
   "execution_count": 15,
   "metadata": {
    "colab": {
     "base_uri": "https://localhost:8080/"
    },
    "id": "gYR7AUdRkuUh",
    "outputId": "7eb8b730-830e-4ed1-8550-a13369dc6021"
   },
   "outputs": [
    {
     "name": "stdout",
     "output_type": "stream",
     "text": [
      "FINISHED\n"
     ]
    }
   ],
   "source": [
    "cs_results = pd.DataFrame(0.0, index=range(num_trials), columns=['Iterations', 'Time (sec)', 'Distance'])\n",
    "egd_results = pd.DataFrame(0.0, index=range(num_trials), columns=['Iterations', 'Time (sec)', 'Distance'])\n",
    "pfw_results = pd.DataFrame(0.0, index=range(num_trials), columns=['Iterations', 'Time (sec)', 'Distance'])\n",
    "\n",
    "for i in range(num_trials):\n",
    "    np.random.seed(i)\n",
    "\n",
    "    samples = generate_student_scores(num_students=num_students, num_questions=num_questions)\n",
    "    _, n = samples.shape\n",
    "\n",
    "    # Test Cauchy Simplex\n",
    "    optimizer = CauchySimplex(samples, integration_points, target_distribution, e=0.05)\n",
    "    w = np.ones(n) / n\n",
    "    cs_results.iloc[i, :] = test_optimizer(optimizer, w, max_iter=max_iter, \n",
    "                                           search_args={'gamma': 1}, max_time=max_time)\n",
    "\n",
    "    # Test EGD\n",
    "    optimizer = EGD(samples, integration_points, target_distribution, e=0.05)\n",
    "    w = np.ones(n) / n\n",
    "    egd_results.iloc[i, :] = test_optimizer(optimizer, w, max_iter=max_iter, \n",
    "                                            search_args={'step_size': 10}, max_time=max_time)\n",
    "\n",
    "    # Test PFW\n",
    "    optimizer = PairwiseFrankWolfe(samples, integration_points, target_distribution, e=0.05)\n",
    "    w = np.ones(n) / n\n",
    "    pfw_results.iloc[i, :] = test_optimizer(optimizer, w, max_iter=max_iter, \n",
    "                                            search_args={}, max_time=max_time)\n",
    "\n",
    "    cs_results.to_csv(f\"cs.csv\")\n",
    "    egd_results.to_csv(f\"egd.csv\")\n",
    "    pfw_results.to_csv(f\"pfw.csv\")\n",
    "\n",
    "print(\"FINISHED\")"
   ]
  },
  {
   "cell_type": "code",
   "execution_count": 16,
   "metadata": {
    "id": "zOtHapXImAJv"
   },
   "outputs": [],
   "source": [
    "import os\n",
    "\n",
    "files = [x for x in os.listdir() if x[-3:] == 'csv']\n",
    "dfs = []\n",
    "\n",
    "for x in files:\n",
    "    df = pd.read_csv(x, index_col=0)\n",
    "    df['Optimizer'] = x.split('.')[0]\n",
    "    \n",
    "    dfs.append(df)\n",
    "    \n",
    "df = pd.concat(dfs)"
   ]
  },
  {
   "cell_type": "code",
   "execution_count": 17,
   "metadata": {
    "colab": {
     "base_uri": "https://localhost:8080/",
     "height": 363
    },
    "id": "IFLx5djP0d1H",
    "outputId": "ba057374-70bb-408a-d197-8557a9bc3a14"
   },
   "outputs": [
    {
     "data": {
      "text/html": [
       "\n",
       "  <div id=\"df-c2aeaee7-98af-4304-a0a2-c9f19b84b6ae\">\n",
       "    <div class=\"colab-df-container\">\n",
       "      <div>\n",
       "<style scoped>\n",
       "    .dataframe tbody tr th:only-of-type {\n",
       "        vertical-align: middle;\n",
       "    }\n",
       "\n",
       "    .dataframe tbody tr th {\n",
       "        vertical-align: top;\n",
       "    }\n",
       "\n",
       "    .dataframe thead th {\n",
       "        text-align: right;\n",
       "    }\n",
       "</style>\n",
       "<table border=\"1\" class=\"dataframe\">\n",
       "  <thead>\n",
       "    <tr style=\"text-align: right;\">\n",
       "      <th></th>\n",
       "      <th>pfw</th>\n",
       "      <th>cs</th>\n",
       "      <th>egd</th>\n",
       "    </tr>\n",
       "  </thead>\n",
       "  <tbody>\n",
       "    <tr>\n",
       "      <th>0</th>\n",
       "      <td>0.004424</td>\n",
       "      <td>0.001794</td>\n",
       "      <td>0.260145</td>\n",
       "    </tr>\n",
       "    <tr>\n",
       "      <th>1</th>\n",
       "      <td>0.011773</td>\n",
       "      <td>0.010529</td>\n",
       "      <td>0.180865</td>\n",
       "    </tr>\n",
       "    <tr>\n",
       "      <th>2</th>\n",
       "      <td>0.052634</td>\n",
       "      <td>0.052777</td>\n",
       "      <td>0.052822</td>\n",
       "    </tr>\n",
       "    <tr>\n",
       "      <th>3</th>\n",
       "      <td>0.035278</td>\n",
       "      <td>0.035303</td>\n",
       "      <td>0.035337</td>\n",
       "    </tr>\n",
       "    <tr>\n",
       "      <th>4</th>\n",
       "      <td>0.021986</td>\n",
       "      <td>0.021948</td>\n",
       "      <td>0.022098</td>\n",
       "    </tr>\n",
       "    <tr>\n",
       "      <th>5</th>\n",
       "      <td>0.017548</td>\n",
       "      <td>0.017416</td>\n",
       "      <td>0.017428</td>\n",
       "    </tr>\n",
       "    <tr>\n",
       "      <th>6</th>\n",
       "      <td>0.058138</td>\n",
       "      <td>0.058220</td>\n",
       "      <td>0.058238</td>\n",
       "    </tr>\n",
       "    <tr>\n",
       "      <th>7</th>\n",
       "      <td>0.034463</td>\n",
       "      <td>0.034678</td>\n",
       "      <td>0.034529</td>\n",
       "    </tr>\n",
       "    <tr>\n",
       "      <th>8</th>\n",
       "      <td>0.008163</td>\n",
       "      <td>0.007002</td>\n",
       "      <td>0.188013</td>\n",
       "    </tr>\n",
       "    <tr>\n",
       "      <th>9</th>\n",
       "      <td>0.011971</td>\n",
       "      <td>0.009048</td>\n",
       "      <td>0.185280</td>\n",
       "    </tr>\n",
       "  </tbody>\n",
       "</table>\n",
       "</div>\n",
       "      <button class=\"colab-df-convert\" onclick=\"convertToInteractive('df-c2aeaee7-98af-4304-a0a2-c9f19b84b6ae')\"\n",
       "              title=\"Convert this dataframe to an interactive table.\"\n",
       "              style=\"display:none;\">\n",
       "        \n",
       "  <svg xmlns=\"http://www.w3.org/2000/svg\" height=\"24px\"viewBox=\"0 0 24 24\"\n",
       "       width=\"24px\">\n",
       "    <path d=\"M0 0h24v24H0V0z\" fill=\"none\"/>\n",
       "    <path d=\"M18.56 5.44l.94 2.06.94-2.06 2.06-.94-2.06-.94-.94-2.06-.94 2.06-2.06.94zm-11 1L8.5 8.5l.94-2.06 2.06-.94-2.06-.94L8.5 2.5l-.94 2.06-2.06.94zm10 10l.94 2.06.94-2.06 2.06-.94-2.06-.94-.94-2.06-.94 2.06-2.06.94z\"/><path d=\"M17.41 7.96l-1.37-1.37c-.4-.4-.92-.59-1.43-.59-.52 0-1.04.2-1.43.59L10.3 9.45l-7.72 7.72c-.78.78-.78 2.05 0 2.83L4 21.41c.39.39.9.59 1.41.59.51 0 1.02-.2 1.41-.59l7.78-7.78 2.81-2.81c.8-.78.8-2.07 0-2.86zM5.41 20L4 18.59l7.72-7.72 1.47 1.35L5.41 20z\"/>\n",
       "  </svg>\n",
       "      </button>\n",
       "      \n",
       "  <style>\n",
       "    .colab-df-container {\n",
       "      display:flex;\n",
       "      flex-wrap:wrap;\n",
       "      gap: 12px;\n",
       "    }\n",
       "\n",
       "    .colab-df-convert {\n",
       "      background-color: #E8F0FE;\n",
       "      border: none;\n",
       "      border-radius: 50%;\n",
       "      cursor: pointer;\n",
       "      display: none;\n",
       "      fill: #1967D2;\n",
       "      height: 32px;\n",
       "      padding: 0 0 0 0;\n",
       "      width: 32px;\n",
       "    }\n",
       "\n",
       "    .colab-df-convert:hover {\n",
       "      background-color: #E2EBFA;\n",
       "      box-shadow: 0px 1px 2px rgba(60, 64, 67, 0.3), 0px 1px 3px 1px rgba(60, 64, 67, 0.15);\n",
       "      fill: #174EA6;\n",
       "    }\n",
       "\n",
       "    [theme=dark] .colab-df-convert {\n",
       "      background-color: #3B4455;\n",
       "      fill: #D2E3FC;\n",
       "    }\n",
       "\n",
       "    [theme=dark] .colab-df-convert:hover {\n",
       "      background-color: #434B5C;\n",
       "      box-shadow: 0px 1px 3px 1px rgba(0, 0, 0, 0.15);\n",
       "      filter: drop-shadow(0px 1px 2px rgba(0, 0, 0, 0.3));\n",
       "      fill: #FFFFFF;\n",
       "    }\n",
       "  </style>\n",
       "\n",
       "      <script>\n",
       "        const buttonEl =\n",
       "          document.querySelector('#df-c2aeaee7-98af-4304-a0a2-c9f19b84b6ae button.colab-df-convert');\n",
       "        buttonEl.style.display =\n",
       "          google.colab.kernel.accessAllowed ? 'block' : 'none';\n",
       "\n",
       "        async function convertToInteractive(key) {\n",
       "          const element = document.querySelector('#df-c2aeaee7-98af-4304-a0a2-c9f19b84b6ae');\n",
       "          const dataTable =\n",
       "            await google.colab.kernel.invokeFunction('convertToInteractive',\n",
       "                                                     [key], {});\n",
       "          if (!dataTable) return;\n",
       "\n",
       "          const docLinkHtml = 'Like what you see? Visit the ' +\n",
       "            '<a target=\"_blank\" href=https://colab.research.google.com/notebooks/data_table.ipynb>data table notebook</a>'\n",
       "            + ' to learn more about interactive tables.';\n",
       "          element.innerHTML = '';\n",
       "          dataTable['output_type'] = 'display_data';\n",
       "          await google.colab.output.renderOutput(dataTable, element);\n",
       "          const docLink = document.createElement('div');\n",
       "          docLink.innerHTML = docLinkHtml;\n",
       "          element.appendChild(docLink);\n",
       "        }\n",
       "      </script>\n",
       "    </div>\n",
       "  </div>\n",
       "  "
      ],
      "text/plain": [
       "        pfw        cs       egd\n",
       "0  0.004424  0.001794  0.260145\n",
       "1  0.011773  0.010529  0.180865\n",
       "2  0.052634  0.052777  0.052822\n",
       "3  0.035278  0.035303  0.035337\n",
       "4  0.021986  0.021948  0.022098\n",
       "5  0.017548  0.017416  0.017428\n",
       "6  0.058138  0.058220  0.058238\n",
       "7  0.034463  0.034678  0.034529\n",
       "8  0.008163  0.007002  0.188013\n",
       "9  0.011971  0.009048  0.185280"
      ]
     },
     "execution_count": 17,
     "metadata": {},
     "output_type": "execute_result"
    }
   ],
   "source": [
    "grouped_distances = df.groupby(\"Optimizer\")[\"Distance\"]\n",
    "# grouped_distances = df.groupby(\"Optimizer\")[\"Time (sec)\"]\n",
    "optimizers = df['Optimizer'].unique()\n",
    "\n",
    "distances = pd.concat([grouped_distances.get_group(x) for x in optimizers], axis=1)\n",
    "distances.columns = optimizers\n",
    "\n",
    "distances.head(10)"
   ]
  },
  {
   "cell_type": "code",
   "execution_count": 18,
   "metadata": {
    "colab": {
     "base_uri": "https://localhost:8080/"
    },
    "id": "eG5T19xWN0cv",
    "outputId": "c2a29ad5-3358-48a3-9f2e-6b9e7e9ba229"
   },
   "outputs": [
    {
     "data": {
      "text/plain": [
       "pfw    12\n",
       "cs     11\n",
       "egd     2\n",
       "dtype: int64"
      ]
     },
     "execution_count": 18,
     "metadata": {},
     "output_type": "execute_result"
    }
   ],
   "source": [
    "labels = distances.columns\n",
    "pd.DataFrame(labels[np.argmin(distances.values, axis=1)]).value_counts()"
   ]
  },
  {
   "cell_type": "code",
   "execution_count": 20,
   "metadata": {
    "colab": {
     "base_uri": "https://localhost:8080/"
    },
    "id": "72g0AVkGoDSZ",
    "outputId": "b9f5f352-8f6a-4007-a929-2ab0e6859274"
   },
   "outputs": [
    {
     "data": {
      "text/plain": [
       "egd    20\n",
       "pfw     3\n",
       "cs      2\n",
       "dtype: int64"
      ]
     },
     "execution_count": 20,
     "metadata": {},
     "output_type": "execute_result"
    }
   ],
   "source": [
    "labels = distances.columns\n",
    "pd.DataFrame(labels[np.argmax(distances.values, axis=1)]).value_counts()"
   ]
  },
  {
   "cell_type": "code",
   "execution_count": null,
   "metadata": {
    "id": "BbmORUA5oElg"
   },
   "outputs": [],
   "source": []
  }
 ],
 "metadata": {
  "colab": {
   "provenance": []
  },
  "kernelspec": {
   "display_name": "Python 3 (ipykernel)",
   "language": "python",
   "name": "python3"
  },
  "language_info": {
   "codemirror_mode": {
    "name": "ipython",
    "version": 3
   },
   "file_extension": ".py",
   "mimetype": "text/x-python",
   "name": "python",
   "nbconvert_exporter": "python",
   "pygments_lexer": "ipython3",
   "version": "3.10.6"
  }
 },
 "nbformat": 4,
 "nbformat_minor": 1
}
