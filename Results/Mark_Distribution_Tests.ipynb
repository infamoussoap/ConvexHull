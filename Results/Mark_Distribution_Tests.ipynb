{
 "cells": [
  {
   "cell_type": "code",
   "execution_count": 1,
   "metadata": {
    "colab": {
     "base_uri": "https://localhost:8080/"
    },
    "id": "kJM9tHfoKV73",
    "outputId": "111d4ae9-8916-48a7-a19b-9051927d297a"
   },
   "outputs": [
    {
     "name": "stdout",
     "output_type": "stream",
     "text": [
      "Cloning into 'ConvexHull'...\n",
      "remote: Enumerating objects: 636, done.\u001b[K\n",
      "remote: Counting objects: 100% (208/208), done.\u001b[K\n",
      "remote: Compressing objects: 100% (137/137), done.\u001b[K\n",
      "remote: Total 636 (delta 112), reused 167 (delta 71), pack-reused 428\u001b[K\n",
      "Receiving objects: 100% (636/636), 816.82 KiB | 7.56 MiB/s, done.\n",
      "Resolving deltas: 100% (335/335), done.\n"
     ]
    }
   ],
   "source": [
    "!git clone https://github.com/infamoussoap/ConvexHull.git"
   ]
  },
  {
   "cell_type": "code",
   "execution_count": 2,
   "metadata": {
    "id": "aqN9A2m-Kdbi"
   },
   "outputs": [],
   "source": [
    "import numpy as np\n",
    "import pandas as pd\n",
    "import time\n",
    "\n",
    "import matplotlib.pyplot as plt\n",
    "\n",
    "import os"
   ]
  },
  {
   "cell_type": "code",
   "execution_count": 3,
   "metadata": {
    "id": "8NA-SJV0KfBU"
   },
   "outputs": [],
   "source": [
    "import sys\n",
    "sys.path.insert(0, 'ConvexHull')"
   ]
  },
  {
   "cell_type": "code",
   "execution_count": 4,
   "metadata": {
    "id": "40RVSELqKf5_"
   },
   "outputs": [],
   "source": [
    "from Optimizers.SampleWeighting import CauchySimplex, EGD, PairwiseFrankWolfe\n",
    "from Optimizers.SampleWeighting.Distributions import TruncatedGaussian\n",
    "from Optimizers.SampleWeighting.SampleWeighting import SampleWeighting"
   ]
  },
  {
   "cell_type": "code",
   "execution_count": 5,
   "metadata": {
    "id": "CIZ9gR1Y6VvE"
   },
   "outputs": [],
   "source": [
    "def theoretical_student_scores_std(p_values):\n",
    "    num_students, num_questions = p_values.shape\n",
    "    \n",
    "    C = num_students * num_questions ** 2\n",
    "\n",
    "    A = (np.sum(p_values * (1 - p_values)) + np.sum(p_values.T @ p_values)) / C\n",
    "    B = (np.sum(p_values) / (num_students * num_questions)) ** 2\n",
    "\n",
    "    return np.sqrt(A - B)\n",
    "\n",
    "\n",
    "def theoretical_student_scores_mean(p_values):\n",
    "    return np.mean(p_values)"
   ]
  },
  {
   "cell_type": "code",
   "execution_count": 6,
   "metadata": {
    "id": "h9DoYKMKiynr"
   },
   "outputs": [],
   "source": [
    "def generate_student_scores(num_students=100, num_questions=100, \n",
    "                            easy_question_proportion=0.8, smart_student_proportion=0.6):\n",
    "    # Question difficulty\n",
    "    q_values = np.zeros(num_questions)\n",
    "    n = int(num_questions * easy_question_proportion)\n",
    "\n",
    "    q_values[:n] = 7 / 8\n",
    "    q_values[n:] = 1 / 5\n",
    "\n",
    "    # Student smartness\n",
    "    s_values = np.zeros(num_students)\n",
    "    n = int(num_students * smart_student_proportion)\n",
    "\n",
    "    s_values[:n] = 4 / 5\n",
    "    s_values[n:] = 1 / 2\n",
    "    \n",
    "    p_values = s_values[:, None] * q_values[None, :]\n",
    "    \n",
    "    return p_values"
   ]
  },
  {
   "cell_type": "code",
   "execution_count": 7,
   "metadata": {
    "id": "GDkjKdoWh1n8"
   },
   "outputs": [],
   "source": [
    "def test_optimizer(optimizer, w, max_iter=1_000, search_args=None, max_time=None):\n",
    "    if search_args is None:\n",
    "        search_args = {}\n",
    "    \n",
    "    max_time = max_time if max_time is not None else np.inf\n",
    "\n",
    "    i = 0 \n",
    "    start = time.time()\n",
    "    while i < max_iter and time.time() - start < max_time:\n",
    "        w = optimizer.search(w, **search_args)\n",
    "        i += 1\n",
    "        \n",
    "    end = time.time()\n",
    "\n",
    "    weighted_mean = np.mean(optimizer.data @ w)\n",
    "    weighted_std = np.std(optimizer.data @ w)\n",
    "\n",
    "    return i, end - start, optimizer.f(w), weighted_mean, weighted_std"
   ]
  },
  {
   "cell_type": "code",
   "execution_count": 8,
   "metadata": {
    "id": "zYAeKtrgLQIr"
   },
   "outputs": [],
   "source": [
    "num_trials = 25\n",
    "\n",
    "max_iter = 150\n",
    "max_time = np.inf  # seconds\n",
    "\n",
    "num_students = 200\n",
    "num_questions = 75\n",
    "\n",
    "p_values = generate_student_scores(num_students=num_students, num_questions=num_questions)"
   ]
  },
  {
   "cell_type": "code",
   "execution_count": 9,
   "metadata": {
    "colab": {
     "base_uri": "https://localhost:8080/"
    },
    "id": "PNS4S23_6Yci",
    "outputId": "6ff8942a-2e85-4b7b-a48c-282129b612e0"
   },
   "outputs": [
    {
     "name": "stdout",
     "output_type": "stream",
     "text": [
      "Theoretical Mean = 0.5032, Theoretical Std = 0.1206\n"
     ]
    }
   ],
   "source": [
    "mean = theoretical_student_scores_mean(p_values)\n",
    "std = theoretical_student_scores_std(p_values)\n",
    "\n",
    "print(f\"Theoretical Mean = {mean:.4f}, Theoretical Std = {std:.4f}\")"
   ]
  },
  {
   "cell_type": "code",
   "execution_count": 10,
   "metadata": {
    "id": "uWYsyMECRRNW"
   },
   "outputs": [],
   "source": [
    "integration_points = np.linspace(0, 1, 401)\n",
    "target_distribution = TruncatedGaussian(0.5, 0.1, 0, 1)"
   ]
  },
  {
   "cell_type": "code",
   "execution_count": 11,
   "metadata": {
    "colab": {
     "base_uri": "https://localhost:8080/"
    },
    "id": "gYR7AUdRkuUh",
    "outputId": "eae3efc3-1f74-4f6f-8fc4-d866e043298a"
   },
   "outputs": [
    {
     "name": "stdout",
     "output_type": "stream",
     "text": [
      "FINISHED\n"
     ]
    }
   ],
   "source": [
    "cs_results = pd.DataFrame(0.0, index=range(num_trials), columns=['Iterations', 'Time (sec)', 'Distance', 'Weighted Mean', 'Weighted Std'])\n",
    "egd_results = pd.DataFrame(0.0, index=range(num_trials), columns=['Iterations', 'Time (sec)', 'Distance', 'Weighted Mean', 'Weighted Std'])\n",
    "pfw_results = pd.DataFrame(0.0, index=range(num_trials), columns=['Iterations', 'Time (sec)', 'Distance', 'Weighted Mean', 'Weighted Std'])\n",
    "\n",
    "for i in range(num_trials):\n",
    "    np.random.seed(i)\n",
    "\n",
    "    samples = np.random.binomial(1, p_values)\n",
    "    _, n = samples.shape\n",
    "\n",
    "    # Test Cauchy Simplex\n",
    "    optimizer = CauchySimplex(samples, integration_points, target_distribution, e=0.05)\n",
    "    w = np.ones(n) / n\n",
    "    cs_results.iloc[i, :] = test_optimizer(optimizer, w, max_iter=max_iter, \n",
    "                                           search_args={'gamma': 1}, max_time=max_time)\n",
    "\n",
    "    # Test EGD\n",
    "    optimizer = EGD(samples, integration_points, target_distribution, e=0.05)\n",
    "    w = np.ones(n) / n\n",
    "    egd_results.iloc[i, :] = test_optimizer(optimizer, w, max_iter=max_iter, \n",
    "                                            search_args={'step_size': 10}, max_time=max_time)\n",
    "\n",
    "    # Test PFW\n",
    "    optimizer = PairwiseFrankWolfe(samples, integration_points, target_distribution, e=0.05)\n",
    "    w = np.ones(n) / n\n",
    "    pfw_results.iloc[i, :] = test_optimizer(optimizer, w, max_iter=max_iter, \n",
    "                                            search_args={}, max_time=max_time)\n",
    "\n",
    "    cs_results.to_csv(f\"cs.csv\")\n",
    "    egd_results.to_csv(f\"egd.csv\")\n",
    "    pfw_results.to_csv(f\"pfw.csv\")\n",
    "\n",
    "print(\"FINISHED\")"
   ]
  },
  {
   "cell_type": "code",
   "execution_count": 12,
   "metadata": {
    "id": "zOtHapXImAJv"
   },
   "outputs": [],
   "source": [
    "files = [x for x in os.listdir() if x[-3:] == 'csv']\n",
    "dfs = []\n",
    "\n",
    "for x in files:\n",
    "    df = pd.read_csv(x, index_col=0)\n",
    "    df['Optimizer'] = x.split('.')[0]\n",
    "    \n",
    "    dfs.append(df)\n",
    "    \n",
    "df = pd.concat(dfs)"
   ]
  },
  {
   "cell_type": "code",
   "execution_count": 13,
   "metadata": {
    "colab": {
     "base_uri": "https://localhost:8080/",
     "height": 206
    },
    "id": "IFLx5djP0d1H",
    "outputId": "c6b6e305-ae91-4e0b-df2d-005e89fc2011"
   },
   "outputs": [
    {
     "data": {
      "text/html": [
       "\n",
       "  <div id=\"df-0b44c481-893c-4a86-8015-0b1d1b3e327b\">\n",
       "    <div class=\"colab-df-container\">\n",
       "      <div>\n",
       "<style scoped>\n",
       "    .dataframe tbody tr th:only-of-type {\n",
       "        vertical-align: middle;\n",
       "    }\n",
       "\n",
       "    .dataframe tbody tr th {\n",
       "        vertical-align: top;\n",
       "    }\n",
       "\n",
       "    .dataframe thead th {\n",
       "        text-align: right;\n",
       "    }\n",
       "</style>\n",
       "<table border=\"1\" class=\"dataframe\">\n",
       "  <thead>\n",
       "    <tr style=\"text-align: right;\">\n",
       "      <th></th>\n",
       "      <th>egd</th>\n",
       "      <th>pfw</th>\n",
       "      <th>cs</th>\n",
       "    </tr>\n",
       "  </thead>\n",
       "  <tbody>\n",
       "    <tr>\n",
       "      <th>0</th>\n",
       "      <td>0.032426</td>\n",
       "      <td>0.032114</td>\n",
       "      <td>0.032432</td>\n",
       "    </tr>\n",
       "    <tr>\n",
       "      <th>1</th>\n",
       "      <td>0.010535</td>\n",
       "      <td>0.010101</td>\n",
       "      <td>0.010349</td>\n",
       "    </tr>\n",
       "    <tr>\n",
       "      <th>2</th>\n",
       "      <td>0.016252</td>\n",
       "      <td>0.015848</td>\n",
       "      <td>0.016186</td>\n",
       "    </tr>\n",
       "    <tr>\n",
       "      <th>3</th>\n",
       "      <td>0.025726</td>\n",
       "      <td>0.025309</td>\n",
       "      <td>0.025684</td>\n",
       "    </tr>\n",
       "    <tr>\n",
       "      <th>4</th>\n",
       "      <td>0.020486</td>\n",
       "      <td>0.020213</td>\n",
       "      <td>0.020561</td>\n",
       "    </tr>\n",
       "  </tbody>\n",
       "</table>\n",
       "</div>\n",
       "      <button class=\"colab-df-convert\" onclick=\"convertToInteractive('df-0b44c481-893c-4a86-8015-0b1d1b3e327b')\"\n",
       "              title=\"Convert this dataframe to an interactive table.\"\n",
       "              style=\"display:none;\">\n",
       "        \n",
       "  <svg xmlns=\"http://www.w3.org/2000/svg\" height=\"24px\"viewBox=\"0 0 24 24\"\n",
       "       width=\"24px\">\n",
       "    <path d=\"M0 0h24v24H0V0z\" fill=\"none\"/>\n",
       "    <path d=\"M18.56 5.44l.94 2.06.94-2.06 2.06-.94-2.06-.94-.94-2.06-.94 2.06-2.06.94zm-11 1L8.5 8.5l.94-2.06 2.06-.94-2.06-.94L8.5 2.5l-.94 2.06-2.06.94zm10 10l.94 2.06.94-2.06 2.06-.94-2.06-.94-.94-2.06-.94 2.06-2.06.94z\"/><path d=\"M17.41 7.96l-1.37-1.37c-.4-.4-.92-.59-1.43-.59-.52 0-1.04.2-1.43.59L10.3 9.45l-7.72 7.72c-.78.78-.78 2.05 0 2.83L4 21.41c.39.39.9.59 1.41.59.51 0 1.02-.2 1.41-.59l7.78-7.78 2.81-2.81c.8-.78.8-2.07 0-2.86zM5.41 20L4 18.59l7.72-7.72 1.47 1.35L5.41 20z\"/>\n",
       "  </svg>\n",
       "      </button>\n",
       "      \n",
       "  <style>\n",
       "    .colab-df-container {\n",
       "      display:flex;\n",
       "      flex-wrap:wrap;\n",
       "      gap: 12px;\n",
       "    }\n",
       "\n",
       "    .colab-df-convert {\n",
       "      background-color: #E8F0FE;\n",
       "      border: none;\n",
       "      border-radius: 50%;\n",
       "      cursor: pointer;\n",
       "      display: none;\n",
       "      fill: #1967D2;\n",
       "      height: 32px;\n",
       "      padding: 0 0 0 0;\n",
       "      width: 32px;\n",
       "    }\n",
       "\n",
       "    .colab-df-convert:hover {\n",
       "      background-color: #E2EBFA;\n",
       "      box-shadow: 0px 1px 2px rgba(60, 64, 67, 0.3), 0px 1px 3px 1px rgba(60, 64, 67, 0.15);\n",
       "      fill: #174EA6;\n",
       "    }\n",
       "\n",
       "    [theme=dark] .colab-df-convert {\n",
       "      background-color: #3B4455;\n",
       "      fill: #D2E3FC;\n",
       "    }\n",
       "\n",
       "    [theme=dark] .colab-df-convert:hover {\n",
       "      background-color: #434B5C;\n",
       "      box-shadow: 0px 1px 3px 1px rgba(0, 0, 0, 0.15);\n",
       "      filter: drop-shadow(0px 1px 2px rgba(0, 0, 0, 0.3));\n",
       "      fill: #FFFFFF;\n",
       "    }\n",
       "  </style>\n",
       "\n",
       "      <script>\n",
       "        const buttonEl =\n",
       "          document.querySelector('#df-0b44c481-893c-4a86-8015-0b1d1b3e327b button.colab-df-convert');\n",
       "        buttonEl.style.display =\n",
       "          google.colab.kernel.accessAllowed ? 'block' : 'none';\n",
       "\n",
       "        async function convertToInteractive(key) {\n",
       "          const element = document.querySelector('#df-0b44c481-893c-4a86-8015-0b1d1b3e327b');\n",
       "          const dataTable =\n",
       "            await google.colab.kernel.invokeFunction('convertToInteractive',\n",
       "                                                     [key], {});\n",
       "          if (!dataTable) return;\n",
       "\n",
       "          const docLinkHtml = 'Like what you see? Visit the ' +\n",
       "            '<a target=\"_blank\" href=https://colab.research.google.com/notebooks/data_table.ipynb>data table notebook</a>'\n",
       "            + ' to learn more about interactive tables.';\n",
       "          element.innerHTML = '';\n",
       "          dataTable['output_type'] = 'display_data';\n",
       "          await google.colab.output.renderOutput(dataTable, element);\n",
       "          const docLink = document.createElement('div');\n",
       "          docLink.innerHTML = docLinkHtml;\n",
       "          element.appendChild(docLink);\n",
       "        }\n",
       "      </script>\n",
       "    </div>\n",
       "  </div>\n",
       "  "
      ],
      "text/plain": [
       "        egd       pfw        cs\n",
       "0  0.032426  0.032114  0.032432\n",
       "1  0.010535  0.010101  0.010349\n",
       "2  0.016252  0.015848  0.016186\n",
       "3  0.025726  0.025309  0.025684\n",
       "4  0.020486  0.020213  0.020561"
      ]
     },
     "execution_count": 13,
     "metadata": {},
     "output_type": "execute_result"
    }
   ],
   "source": [
    "grouped_distances = df.groupby(\"Optimizer\")[\"Distance\"]\n",
    "optimizers = df['Optimizer'].unique()\n",
    "\n",
    "distances = pd.concat([grouped_distances.get_group(x) for x in optimizers], axis=1)\n",
    "distances.columns = optimizers\n",
    "\n",
    "distances.head()"
   ]
  },
  {
   "cell_type": "code",
   "execution_count": 14,
   "metadata": {
    "colab": {
     "base_uri": "https://localhost:8080/"
    },
    "id": "eG5T19xWN0cv",
    "outputId": "29afea56-2038-4392-f293-c1ac6d062a66"
   },
   "outputs": [
    {
     "data": {
      "text/plain": [
       "pfw    25\n",
       "dtype: int64"
      ]
     },
     "execution_count": 14,
     "metadata": {},
     "output_type": "execute_result"
    }
   ],
   "source": [
    "labels = distances.columns\n",
    "pd.DataFrame(labels[np.argmin(distances.values, axis=1)]).value_counts()"
   ]
  },
  {
   "cell_type": "code",
   "execution_count": 15,
   "metadata": {
    "colab": {
     "base_uri": "https://localhost:8080/"
    },
    "id": "72g0AVkGoDSZ",
    "outputId": "dd9730c2-82b8-4744-ee8d-c9daff4c2ac0"
   },
   "outputs": [
    {
     "data": {
      "text/plain": [
       "cs     13\n",
       "egd    12\n",
       "dtype: int64"
      ]
     },
     "execution_count": 15,
     "metadata": {},
     "output_type": "execute_result"
    }
   ],
   "source": [
    "labels = distances.columns\n",
    "pd.DataFrame(labels[np.argmax(distances.values, axis=1)]).value_counts()"
   ]
  },
  {
   "cell_type": "code",
   "execution_count": 16,
   "metadata": {
    "colab": {
     "base_uri": "https://localhost:8080/",
     "height": 206
    },
    "id": "48Ok8ZO_RS-g",
    "outputId": "56d2a4c1-7a47-41eb-9f9a-1d4442afdaa5"
   },
   "outputs": [
    {
     "data": {
      "text/html": [
       "\n",
       "  <div id=\"df-3fabc191-18fe-4253-b486-e9cfb1a17e43\">\n",
       "    <div class=\"colab-df-container\">\n",
       "      <div>\n",
       "<style scoped>\n",
       "    .dataframe tbody tr th:only-of-type {\n",
       "        vertical-align: middle;\n",
       "    }\n",
       "\n",
       "    .dataframe tbody tr th {\n",
       "        vertical-align: top;\n",
       "    }\n",
       "\n",
       "    .dataframe thead th {\n",
       "        text-align: right;\n",
       "    }\n",
       "</style>\n",
       "<table border=\"1\" class=\"dataframe\">\n",
       "  <thead>\n",
       "    <tr style=\"text-align: right;\">\n",
       "      <th></th>\n",
       "      <th>egd</th>\n",
       "      <th>pfw</th>\n",
       "      <th>cs</th>\n",
       "    </tr>\n",
       "  </thead>\n",
       "  <tbody>\n",
       "    <tr>\n",
       "      <th>0</th>\n",
       "      <td>10.984295</td>\n",
       "      <td>6.017592</td>\n",
       "      <td>8.138298</td>\n",
       "    </tr>\n",
       "    <tr>\n",
       "      <th>1</th>\n",
       "      <td>5.079744</td>\n",
       "      <td>4.455963</td>\n",
       "      <td>5.946815</td>\n",
       "    </tr>\n",
       "    <tr>\n",
       "      <th>2</th>\n",
       "      <td>4.932542</td>\n",
       "      <td>5.501061</td>\n",
       "      <td>5.743837</td>\n",
       "    </tr>\n",
       "    <tr>\n",
       "      <th>3</th>\n",
       "      <td>6.186781</td>\n",
       "      <td>4.510577</td>\n",
       "      <td>4.618060</td>\n",
       "    </tr>\n",
       "    <tr>\n",
       "      <th>4</th>\n",
       "      <td>6.032439</td>\n",
       "      <td>4.503717</td>\n",
       "      <td>4.629465</td>\n",
       "    </tr>\n",
       "  </tbody>\n",
       "</table>\n",
       "</div>\n",
       "      <button class=\"colab-df-convert\" onclick=\"convertToInteractive('df-3fabc191-18fe-4253-b486-e9cfb1a17e43')\"\n",
       "              title=\"Convert this dataframe to an interactive table.\"\n",
       "              style=\"display:none;\">\n",
       "        \n",
       "  <svg xmlns=\"http://www.w3.org/2000/svg\" height=\"24px\"viewBox=\"0 0 24 24\"\n",
       "       width=\"24px\">\n",
       "    <path d=\"M0 0h24v24H0V0z\" fill=\"none\"/>\n",
       "    <path d=\"M18.56 5.44l.94 2.06.94-2.06 2.06-.94-2.06-.94-.94-2.06-.94 2.06-2.06.94zm-11 1L8.5 8.5l.94-2.06 2.06-.94-2.06-.94L8.5 2.5l-.94 2.06-2.06.94zm10 10l.94 2.06.94-2.06 2.06-.94-2.06-.94-.94-2.06-.94 2.06-2.06.94z\"/><path d=\"M17.41 7.96l-1.37-1.37c-.4-.4-.92-.59-1.43-.59-.52 0-1.04.2-1.43.59L10.3 9.45l-7.72 7.72c-.78.78-.78 2.05 0 2.83L4 21.41c.39.39.9.59 1.41.59.51 0 1.02-.2 1.41-.59l7.78-7.78 2.81-2.81c.8-.78.8-2.07 0-2.86zM5.41 20L4 18.59l7.72-7.72 1.47 1.35L5.41 20z\"/>\n",
       "  </svg>\n",
       "      </button>\n",
       "      \n",
       "  <style>\n",
       "    .colab-df-container {\n",
       "      display:flex;\n",
       "      flex-wrap:wrap;\n",
       "      gap: 12px;\n",
       "    }\n",
       "\n",
       "    .colab-df-convert {\n",
       "      background-color: #E8F0FE;\n",
       "      border: none;\n",
       "      border-radius: 50%;\n",
       "      cursor: pointer;\n",
       "      display: none;\n",
       "      fill: #1967D2;\n",
       "      height: 32px;\n",
       "      padding: 0 0 0 0;\n",
       "      width: 32px;\n",
       "    }\n",
       "\n",
       "    .colab-df-convert:hover {\n",
       "      background-color: #E2EBFA;\n",
       "      box-shadow: 0px 1px 2px rgba(60, 64, 67, 0.3), 0px 1px 3px 1px rgba(60, 64, 67, 0.15);\n",
       "      fill: #174EA6;\n",
       "    }\n",
       "\n",
       "    [theme=dark] .colab-df-convert {\n",
       "      background-color: #3B4455;\n",
       "      fill: #D2E3FC;\n",
       "    }\n",
       "\n",
       "    [theme=dark] .colab-df-convert:hover {\n",
       "      background-color: #434B5C;\n",
       "      box-shadow: 0px 1px 3px 1px rgba(0, 0, 0, 0.15);\n",
       "      filter: drop-shadow(0px 1px 2px rgba(0, 0, 0, 0.3));\n",
       "      fill: #FFFFFF;\n",
       "    }\n",
       "  </style>\n",
       "\n",
       "      <script>\n",
       "        const buttonEl =\n",
       "          document.querySelector('#df-3fabc191-18fe-4253-b486-e9cfb1a17e43 button.colab-df-convert');\n",
       "        buttonEl.style.display =\n",
       "          google.colab.kernel.accessAllowed ? 'block' : 'none';\n",
       "\n",
       "        async function convertToInteractive(key) {\n",
       "          const element = document.querySelector('#df-3fabc191-18fe-4253-b486-e9cfb1a17e43');\n",
       "          const dataTable =\n",
       "            await google.colab.kernel.invokeFunction('convertToInteractive',\n",
       "                                                     [key], {});\n",
       "          if (!dataTable) return;\n",
       "\n",
       "          const docLinkHtml = 'Like what you see? Visit the ' +\n",
       "            '<a target=\"_blank\" href=https://colab.research.google.com/notebooks/data_table.ipynb>data table notebook</a>'\n",
       "            + ' to learn more about interactive tables.';\n",
       "          element.innerHTML = '';\n",
       "          dataTable['output_type'] = 'display_data';\n",
       "          await google.colab.output.renderOutput(dataTable, element);\n",
       "          const docLink = document.createElement('div');\n",
       "          docLink.innerHTML = docLinkHtml;\n",
       "          element.appendChild(docLink);\n",
       "        }\n",
       "      </script>\n",
       "    </div>\n",
       "  </div>\n",
       "  "
      ],
      "text/plain": [
       "         egd       pfw        cs\n",
       "0  10.984295  6.017592  8.138298\n",
       "1   5.079744  4.455963  5.946815\n",
       "2   4.932542  5.501061  5.743837\n",
       "3   6.186781  4.510577  4.618060\n",
       "4   6.032439  4.503717  4.629465"
      ]
     },
     "execution_count": 16,
     "metadata": {},
     "output_type": "execute_result"
    }
   ],
   "source": [
    "grouped_times = df.groupby(\"Optimizer\")[\"Time (sec)\"]\n",
    "optimizers = df['Optimizer'].unique()\n",
    "\n",
    "times = pd.concat([grouped_times.get_group(x) for x in optimizers], axis=1)\n",
    "times.columns = optimizers\n",
    "\n",
    "times.head()"
   ]
  },
  {
   "cell_type": "code",
   "execution_count": 17,
   "metadata": {
    "colab": {
     "base_uri": "https://localhost:8080/"
    },
    "id": "6zPVVIdMXznn",
    "outputId": "d20d60b9-3474-43d5-b637-2f70a21295da"
   },
   "outputs": [
    {
     "data": {
      "text/plain": [
       "pfw    15\n",
       "egd     7\n",
       "cs      3\n",
       "dtype: int64"
      ]
     },
     "execution_count": 17,
     "metadata": {},
     "output_type": "execute_result"
    }
   ],
   "source": [
    "labels = times.columns\n",
    "pd.DataFrame(labels[np.argmin(times.values, axis=1)]).value_counts()"
   ]
  },
  {
   "cell_type": "code",
   "execution_count": 18,
   "metadata": {
    "colab": {
     "base_uri": "https://localhost:8080/"
    },
    "id": "z6bYP249X4fC",
    "outputId": "6f8fe3db-06f9-4653-f06b-8a55ca0f8cff"
   },
   "outputs": [
    {
     "data": {
      "text/plain": [
       "egd    13\n",
       "cs      7\n",
       "pfw     5\n",
       "dtype: int64"
      ]
     },
     "execution_count": 18,
     "metadata": {},
     "output_type": "execute_result"
    }
   ],
   "source": [
    "labels = times.columns\n",
    "pd.DataFrame(labels[np.argmax(times.values, axis=1)]).value_counts()"
   ]
  },
  {
   "cell_type": "code",
   "execution_count": null,
   "metadata": {
    "id": "F-Bnku5uX5q2"
   },
   "outputs": [],
   "source": []
  }
 ],
 "metadata": {
  "colab": {
   "provenance": []
  },
  "kernelspec": {
   "display_name": "Python 3 (ipykernel)",
   "language": "python",
   "name": "python3"
  },
  "language_info": {
   "codemirror_mode": {
    "name": "ipython",
    "version": 3
   },
   "file_extension": ".py",
   "mimetype": "text/x-python",
   "name": "python",
   "nbconvert_exporter": "python",
   "pygments_lexer": "ipython3",
   "version": "3.10.6"
  }
 },
 "nbformat": 4,
 "nbformat_minor": 1
}
