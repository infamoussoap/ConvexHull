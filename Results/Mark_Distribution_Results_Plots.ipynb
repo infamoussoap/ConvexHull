{
 "cells": [
  {
   "cell_type": "code",
   "execution_count": 1,
   "id": "3b8e36c3",
   "metadata": {},
   "outputs": [],
   "source": [
    "import numpy as np\n",
    "import pandas as pd\n",
    "\n",
    "import matplotlib.pyplot as plt"
   ]
  },
  {
   "cell_type": "code",
   "execution_count": 8,
   "id": "36990a23",
   "metadata": {},
   "outputs": [],
   "source": [
    "import os\n",
    "\n",
    "root_dir = 'csv_files/Mark Distribution/'\n",
    "\n",
    "files = [x for x in os.listdir(root_dir) if x[-3:] == 'csv']\n",
    "dfs = []\n",
    "\n",
    "for x in files:\n",
    "    df = pd.read_csv(root_dir + x, index_col=0)\n",
    "    df['Optimizer'] = x.split('.')[0]\n",
    "    \n",
    "    dfs.append(df)\n",
    "    \n",
    "df = pd.concat(dfs)"
   ]
  },
  {
   "cell_type": "code",
   "execution_count": 9,
   "id": "182fe010",
   "metadata": {},
   "outputs": [
    {
     "data": {
      "text/html": [
       "<div>\n",
       "<style scoped>\n",
       "    .dataframe tbody tr th:only-of-type {\n",
       "        vertical-align: middle;\n",
       "    }\n",
       "\n",
       "    .dataframe tbody tr th {\n",
       "        vertical-align: top;\n",
       "    }\n",
       "\n",
       "    .dataframe thead th {\n",
       "        text-align: right;\n",
       "    }\n",
       "</style>\n",
       "<table border=\"1\" class=\"dataframe\">\n",
       "  <thead>\n",
       "    <tr style=\"text-align: right;\">\n",
       "      <th></th>\n",
       "      <th>Iterations</th>\n",
       "      <th>Time (sec)</th>\n",
       "      <th>Distance</th>\n",
       "      <th>Optimizer</th>\n",
       "    </tr>\n",
       "  </thead>\n",
       "  <tbody>\n",
       "    <tr>\n",
       "      <th>0</th>\n",
       "      <td>200.0</td>\n",
       "      <td>10.214562</td>\n",
       "      <td>0.001794</td>\n",
       "      <td>cs</td>\n",
       "    </tr>\n",
       "    <tr>\n",
       "      <th>1</th>\n",
       "      <td>200.0</td>\n",
       "      <td>9.752613</td>\n",
       "      <td>0.010529</td>\n",
       "      <td>cs</td>\n",
       "    </tr>\n",
       "    <tr>\n",
       "      <th>2</th>\n",
       "      <td>200.0</td>\n",
       "      <td>7.440755</td>\n",
       "      <td>0.052777</td>\n",
       "      <td>cs</td>\n",
       "    </tr>\n",
       "    <tr>\n",
       "      <th>3</th>\n",
       "      <td>200.0</td>\n",
       "      <td>6.808508</td>\n",
       "      <td>0.035303</td>\n",
       "      <td>cs</td>\n",
       "    </tr>\n",
       "    <tr>\n",
       "      <th>4</th>\n",
       "      <td>200.0</td>\n",
       "      <td>3.025207</td>\n",
       "      <td>0.021948</td>\n",
       "      <td>cs</td>\n",
       "    </tr>\n",
       "  </tbody>\n",
       "</table>\n",
       "</div>"
      ],
      "text/plain": [
       "   Iterations  Time (sec)  Distance Optimizer\n",
       "0       200.0   10.214562  0.001794        cs\n",
       "1       200.0    9.752613  0.010529        cs\n",
       "2       200.0    7.440755  0.052777        cs\n",
       "3       200.0    6.808508  0.035303        cs\n",
       "4       200.0    3.025207  0.021948        cs"
      ]
     },
     "execution_count": 9,
     "metadata": {},
     "output_type": "execute_result"
    }
   ],
   "source": [
    "df.head()"
   ]
  },
  {
   "cell_type": "code",
   "execution_count": 10,
   "id": "4b9f9355",
   "metadata": {},
   "outputs": [
    {
     "data": {
      "text/html": [
       "<div>\n",
       "<style scoped>\n",
       "    .dataframe tbody tr th:only-of-type {\n",
       "        vertical-align: middle;\n",
       "    }\n",
       "\n",
       "    .dataframe tbody tr th {\n",
       "        vertical-align: top;\n",
       "    }\n",
       "\n",
       "    .dataframe thead th {\n",
       "        text-align: right;\n",
       "    }\n",
       "</style>\n",
       "<table border=\"1\" class=\"dataframe\">\n",
       "  <thead>\n",
       "    <tr style=\"text-align: right;\">\n",
       "      <th></th>\n",
       "      <th>cs</th>\n",
       "      <th>egd</th>\n",
       "      <th>pfw</th>\n",
       "    </tr>\n",
       "  </thead>\n",
       "  <tbody>\n",
       "    <tr>\n",
       "      <th>0</th>\n",
       "      <td>0.001794</td>\n",
       "      <td>0.260145</td>\n",
       "      <td>0.004424</td>\n",
       "    </tr>\n",
       "    <tr>\n",
       "      <th>1</th>\n",
       "      <td>0.010529</td>\n",
       "      <td>0.180865</td>\n",
       "      <td>0.011773</td>\n",
       "    </tr>\n",
       "    <tr>\n",
       "      <th>2</th>\n",
       "      <td>0.052777</td>\n",
       "      <td>0.052822</td>\n",
       "      <td>0.052634</td>\n",
       "    </tr>\n",
       "    <tr>\n",
       "      <th>3</th>\n",
       "      <td>0.035303</td>\n",
       "      <td>0.035337</td>\n",
       "      <td>0.035278</td>\n",
       "    </tr>\n",
       "    <tr>\n",
       "      <th>4</th>\n",
       "      <td>0.021948</td>\n",
       "      <td>0.022098</td>\n",
       "      <td>0.021986</td>\n",
       "    </tr>\n",
       "  </tbody>\n",
       "</table>\n",
       "</div>"
      ],
      "text/plain": [
       "         cs       egd       pfw\n",
       "0  0.001794  0.260145  0.004424\n",
       "1  0.010529  0.180865  0.011773\n",
       "2  0.052777  0.052822  0.052634\n",
       "3  0.035303  0.035337  0.035278\n",
       "4  0.021948  0.022098  0.021986"
      ]
     },
     "execution_count": 10,
     "metadata": {},
     "output_type": "execute_result"
    }
   ],
   "source": [
    "grouped_distances = df.groupby(\"Optimizer\")[\"Distance\"]\n",
    "optimizers = df['Optimizer'].unique()\n",
    "\n",
    "distances = pd.concat([grouped_distances.get_group(x) for x in optimizers], axis=1)\n",
    "distances.columns = optimizers\n",
    "\n",
    "distances.head(5)"
   ]
  },
  {
   "cell_type": "code",
   "execution_count": 11,
   "id": "b12a129d",
   "metadata": {},
   "outputs": [
    {
     "data": {
      "text/plain": [
       "pfw    12\n",
       "cs     11\n",
       "egd     2\n",
       "dtype: int64"
      ]
     },
     "execution_count": 11,
     "metadata": {},
     "output_type": "execute_result"
    }
   ],
   "source": [
    "labels = distances.columns\n",
    "pd.DataFrame(labels[np.argmin(distances.values, axis=1)]).value_counts()"
   ]
  },
  {
   "cell_type": "code",
   "execution_count": 12,
   "id": "af89c0e9",
   "metadata": {},
   "outputs": [
    {
     "data": {
      "text/plain": [
       "egd    20\n",
       "pfw     3\n",
       "cs      2\n",
       "dtype: int64"
      ]
     },
     "execution_count": 12,
     "metadata": {},
     "output_type": "execute_result"
    }
   ],
   "source": [
    "labels = distances.columns\n",
    "pd.DataFrame(labels[np.argmax(distances.values, axis=1)]).value_counts()"
   ]
  },
  {
   "cell_type": "code",
   "execution_count": 13,
   "id": "110d6d57",
   "metadata": {
    "scrolled": false
   },
   "outputs": [
    {
     "name": "stdout",
     "output_type": "stream",
     "text": [
      "\\begin{tabular}{l|ccc}\n",
      "\\toprule\n",
      "Iteration &        CS &       EGD &       PFW \\\\\n",
      "\\midrule\n",
      "1 & \\textbf{0.001794} & \\textit{0.260145} & 0.004424 \\\\\n",
      "2 & \\textbf{0.010529} & \\textit{0.180865} & 0.011773 \\\\\n",
      "3 & 0.052777 & \\textit{0.052822} & \\textbf{0.052634} \\\\\n",
      "4 & 0.035303 & \\textit{0.035337} & \\textbf{0.035278} \\\\\n",
      "5 & \\textbf{0.021948} & \\textit{0.022098} & 0.021986 \\\\\n",
      "6 & \\textbf{0.017416} & 0.017428 & \\textit{0.017548} \\\\\n",
      "7 & 0.058220 & \\textit{0.058238} & \\textbf{0.058138} \\\\\n",
      "8 & \\textit{0.034678} & 0.034529 & \\textbf{0.034463} \\\\\n",
      "9 & \\textbf{0.007002} & \\textit{0.188013} & 0.008163 \\\\\n",
      "10 & \\textbf{0.009048} & \\textit{0.185280} & 0.011971 \\\\\n",
      "11 & \\textbf{0.027173} & \\textit{0.030126} & 0.027251 \\\\\n",
      "12 & \\textbf{0.003963} & \\textit{0.248625} & 0.009257 \\\\\n",
      "13 & 0.015499 & \\textit{0.015673} & \\textbf{0.015206} \\\\\n",
      "14 & 0.022275 & \\textit{0.022378} & \\textbf{0.021945} \\\\\n",
      "15 & 0.030120 & \\textbf{0.030108} & \\textit{0.031014} \\\\\n",
      "16 & 0.077587 & \\textit{0.077602} & \\textbf{0.077586} \\\\\n",
      "17 & \\textbf{0.035276} & \\textit{0.048413} & 0.036323 \\\\\n",
      "18 & 0.028037 & \\textit{0.089203} & \\textbf{0.027146} \\\\\n",
      "19 & 0.000440 & \\textbf{0.000399} & \\textit{0.002284} \\\\\n",
      "20 & \\textbf{0.021666} & \\textit{1.961848} & 0.023254 \\\\\n",
      "21 & 0.002244 & \\textit{0.003738} & \\textbf{0.002082} \\\\\n",
      "22 & 0.019781 & \\textit{0.019793} & \\textbf{0.019620} \\\\\n",
      "23 & \\textbf{0.007463} & \\textit{0.018892} & 0.007627 \\\\\n",
      "24 & 0.027204 & \\textit{0.027338} & \\textbf{0.026619} \\\\\n",
      "25 & \\textit{0.008237} & 0.007341 & \\textbf{0.007043} \\\\\n",
      "\\bottomrule\n",
      "\\end{tabular}\n"
     ]
    }
   ],
   "source": [
    "print(r\"\"\"\\begin{tabular}{l|ccc}\n",
    "\\toprule\n",
    "Iteration &        CS &       EGD &       PFW \\\\\n",
    "\\midrule\"\"\")\n",
    "\n",
    "for i in range(len(distances)):\n",
    "    vals = distances.iloc[i].values\n",
    "    min_arg = np.argmin(vals)\n",
    "    max_arg = np.argmax(vals)\n",
    "    \n",
    "    s = f\"{i + 1} \"\n",
    "    for index, v in enumerate(vals):\n",
    "        if index == min_arg:\n",
    "            s += r\"& \\textbf{\" + f\"{v:.6f}\" + \"} \"\n",
    "        elif index == max_arg:\n",
    "            s += r\"& \\textit{\" + f\"{v:.6f}\" + \"} \"\n",
    "        else:\n",
    "            s += f\"& {v:.6f} \"\n",
    "    s += r\"\\\\\"\n",
    "    print(s)\n",
    "print(r\"\"\"\\bottomrule\n",
    "\\end{tabular}\"\"\")"
   ]
  }
 ],
 "metadata": {
  "kernelspec": {
   "display_name": "Python 3 (ipykernel)",
   "language": "python",
   "name": "python3"
  },
  "language_info": {
   "codemirror_mode": {
    "name": "ipython",
    "version": 3
   },
   "file_extension": ".py",
   "mimetype": "text/x-python",
   "name": "python",
   "nbconvert_exporter": "python",
   "pygments_lexer": "ipython3",
   "version": "3.10.6"
  }
 },
 "nbformat": 4,
 "nbformat_minor": 5
}
