{
 "cells": [
  {
   "cell_type": "markdown",
   "id": "15d14189",
   "metadata": {},
   "source": [
    "# Convex Hull"
   ]
  },
  {
   "cell_type": "code",
   "execution_count": 1,
   "id": "fb7f28a0",
   "metadata": {},
   "outputs": [],
   "source": [
    "import numpy as np\n",
    "\n",
    "from Optimizers import ConvexHull"
   ]
  },
  {
   "cell_type": "code",
   "execution_count": 2,
   "id": "1b9e7c4c",
   "metadata": {},
   "outputs": [],
   "source": [
    "n = 1000\n",
    "d = 10\n",
    "\n",
    "X = np.random.rand(n, d)  # Convex Hull\n",
    "y = -np.random.rand(d)  # Point to be projected"
   ]
  },
  {
   "cell_type": "code",
   "execution_count": 3,
   "id": "a58fac06",
   "metadata": {},
   "outputs": [
    {
     "name": "stdout",
     "output_type": "stream",
     "text": [
      "25: 2.056504884334334\n",
      "50: 2.025281976015654\n",
      "75: 2.025281976015654\n",
      "100: 2.025281976015654\n"
     ]
    }
   ],
   "source": [
    "optimizer = ConvexHull.CauchySimplex(X, y)\n",
    "\n",
    "w = np.ones(n) / n\n",
    "for i in range(100):\n",
    "    w = optimizer.search(w)\n",
    "    \n",
    "    if (i + 1) % 25 == 0:\n",
    "        print(f\"{i + 1}: {optimizer.f(w)}\")"
   ]
  },
  {
   "cell_type": "code",
   "execution_count": 4,
   "id": "a0a1338b",
   "metadata": {},
   "outputs": [
    {
     "name": "stdout",
     "output_type": "stream",
     "text": [
      "25: 2.0252834055937656\n",
      "50: 2.025281988137695\n",
      "75: 2.025281976137772\n",
      "100: 2.025281976016905\n"
     ]
    }
   ],
   "source": [
    "optimizer = ConvexHull.EGD(X, y)\n",
    "\n",
    "w = np.ones(n) / n\n",
    "for i in range(100):\n",
    "    w = optimizer.search(w, step_size=10)\n",
    "    \n",
    "    if (i + 1) % 25 == 0:\n",
    "        print(f\"{i + 1}: {optimizer.f(w)}\")"
   ]
  },
  {
   "cell_type": "code",
   "execution_count": 5,
   "id": "ef6b7f10",
   "metadata": {},
   "outputs": [
    {
     "name": "stdout",
     "output_type": "stream",
     "text": [
      "25: 4.140818077950717\n",
      "50: 4.036720235958068\n",
      "75: 3.9383011001982666\n",
      "100: 3.8445783930452073\n"
     ]
    }
   ],
   "source": [
    "optimizer = ConvexHull.PairwiseFrankWolfe(X, y)\n",
    "\n",
    "w = np.ones(n) / n\n",
    "for i in range(100):\n",
    "    w = optimizer.search(w)\n",
    "    \n",
    "    if (i + 1) % 25 == 0:\n",
    "        print(f\"{i + 1}: {optimizer.f(w)}\")"
   ]
  }
 ],
 "metadata": {
  "kernelspec": {
   "display_name": "Python 3 (ipykernel)",
   "language": "python",
   "name": "python3"
  },
  "language_info": {
   "codemirror_mode": {
    "name": "ipython",
    "version": 3
   },
   "file_extension": ".py",
   "mimetype": "text/x-python",
   "name": "python",
   "nbconvert_exporter": "python",
   "pygments_lexer": "ipython3",
   "version": "3.10.6"
  }
 },
 "nbformat": 4,
 "nbformat_minor": 5
}
