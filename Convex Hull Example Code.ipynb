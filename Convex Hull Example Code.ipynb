{
 "cells": [
  {
   "cell_type": "markdown",
   "id": "15d14189",
   "metadata": {},
   "source": [
    "# Convex Hull"
   ]
  },
  {
   "cell_type": "code",
   "execution_count": 2,
   "id": "fb7f28a0",
   "metadata": {},
   "outputs": [],
   "source": [
    "import numpy as np\n",
    "\n",
    "from Optimizers import ConvexHull"
   ]
  },
  {
   "cell_type": "code",
   "execution_count": 3,
   "id": "1b9e7c4c",
   "metadata": {},
   "outputs": [],
   "source": [
    "n = 1000\n",
    "d = 10\n",
    "\n",
    "X = np.random.rand(n, d)  # Convex Hull\n",
    "y = -np.random.rand(d)  # Point to be projected"
   ]
  },
  {
   "cell_type": "code",
   "execution_count": 8,
   "id": "a58fac06",
   "metadata": {},
   "outputs": [
    {
     "name": "stdout",
     "output_type": "stream",
     "text": [
      "Cauchy Simplex\n",
      "25: 3.1156835788021957\n",
      "50: 3.0854338065502334\n",
      "75: 3.084957237329954\n",
      "100: 3.084957229910886\n"
     ]
    }
   ],
   "source": [
    "optimizer = ConvexHull.CauchySimplex(X, y)\n",
    "\n",
    "w = np.ones(n) / n\n",
    "for i in range(100):\n",
    "    w = optimizer.search(w)\n",
    "    \n",
    "    if (i + 1) % 25 == 0:\n",
    "        print(f\"{i + 1}: {optimizer.f(w)}\")"
   ]
  },
  {
   "cell_type": "code",
   "execution_count": 80,
   "id": "a0a1338b",
   "metadata": {},
   "outputs": [
    {
     "name": "stdout",
     "output_type": "stream",
     "text": [
      "25: 3.0849589454647774\n",
      "50: 3.0849572341832334\n",
      "75: 3.0849572299324874\n",
      "100: 3.0849572299020065\n"
     ]
    }
   ],
   "source": [
    "optimizer = ConvexHull.EGD(X, y)\n",
    "\n",
    "w = np.ones(n) / n\n",
    "for i in range(100):\n",
    "    w = optimizer.search(w, step_size=10)\n",
    "    \n",
    "    if (i + 1) % 25 == 0:\n",
    "        print(f\"{i + 1}: {optimizer.f(w)}\")"
   ]
  },
  {
   "cell_type": "code",
   "execution_count": 10,
   "id": "ef6b7f10",
   "metadata": {},
   "outputs": [
    {
     "name": "stdout",
     "output_type": "stream",
     "text": [
      "PFW\n",
      "25: 5.068731782951143\n",
      "50: 4.9680813418506515\n",
      "75: 4.873209565480545\n",
      "100: 4.7830784849506776\n"
     ]
    }
   ],
   "source": [
    "optimizer = ConvexHull.PairwiseFrankWolfe(X, y)\n",
    "\n",
    "w = np.ones(n) / n\n",
    "for i in range(100):\n",
    "    w = optimizer.search(w)\n",
    "    \n",
    "    if (i + 1) % 25 == 0:\n",
    "        print(f\"{i + 1}: {optimizer.f(w)}\")"
   ]
  }
 ],
 "metadata": {
  "kernelspec": {
   "display_name": "Python 3 (ipykernel)",
   "language": "python",
   "name": "python3"
  },
  "language_info": {
   "codemirror_mode": {
    "name": "ipython",
    "version": 3
   },
   "file_extension": ".py",
   "mimetype": "text/x-python",
   "name": "python",
   "nbconvert_exporter": "python",
   "pygments_lexer": "ipython3",
   "version": "3.10.6"
  }
 },
 "nbformat": 4,
 "nbformat_minor": 5
}
